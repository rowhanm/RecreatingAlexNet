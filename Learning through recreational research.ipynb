{
 "cells": [
  {
   "cell_type": "code",
   "execution_count": 154,
   "metadata": {},
   "outputs": [],
   "source": [
    "import numpy as np\n",
    "from keras import backend as K\n",
    "from keras import optimizers\n",
    "from keras.layers import Activation\n",
    "from keras.layers import Dense\n",
    "from keras.models import Sequential\n",
    "from keras.layers import Dropout\n",
    "from keras.layers import Flatten\n",
    "from keras.layers.convolutional import Conv2D\n",
    "from keras.layers.convolutional import MaxPooling2D\n",
    "from keras.layers.convolutional import ZeroPadding2D\n",
    "from keras.layers.normalization import BatchNormalization\n",
    "from keras.models import Model\n",
    "from keras.utils import np_utils\n",
    "from keras.utils.layer_utils import convert_all_kernels_in_model\n",
    "from utils import local_response_normalization"
   ]
  },
  {
   "cell_type": "markdown",
   "metadata": {},
   "source": [
    "We will be recreating the famous CaffeNet implementation here, but the code for the OG two channel AlexNet can be found on the [Github repo](https://github.com) which is a sequential implementation.\n",
    "\n",
    "> \" ...they are virtually indistinguishable\" - Evan Shelhamer, Caffe lead developer."
   ]
  },
  {
   "cell_type": "code",
   "execution_count": 155,
   "metadata": {},
   "outputs": [],
   "source": [
    "model = Sequential()"
   ]
  },
  {
   "cell_type": "markdown",
   "metadata": {},
   "source": [
    "### Convolutional Layer 1"
   ]
  },
  {
   "cell_type": "markdown",
   "metadata": {},
   "source": [
    "> \"The first convolutional layer filters the 224×224×3 input image with 96 kernels of size 11×11×3 with  a  stride  of  4  pixels\" - Sec. 3.5 para 3.\n",
    "\n",
    "We can compute the spatial size of the output volume as a function of the input volume size (W), the receptive field size of the Conv Layer neurons (F), the stride with which they are applied (S), and the amount of zero padding used (P) on the border. You can convince yourself that the correct formula for calculating how many neurons “fit” (O) is given by \n",
    "\n",
    "~~~\n",
    "O = (W−F+2P)/S+1\n",
    "~~~\n",
    "\n",
    "Therefore, for conv layer 1, as per the diagram, the output needs to be a volume of size 55x55x96\n",
    "\n",
    "If input image is of size 224x224x3, W = 224, F = 11, S = 4, P = 0(not mentioned)\n",
    "\n",
    "O = ((224 - 11 + 0)/4) + 1 -> this is not even an integer so there must be something wrong!\n",
    "\n",
    "> “The other author's were Ilya Sutskever and Geoffrey Hinton. So, AlexNet input starts with 227 by 227 by 3 images. And if you read the paper, the paper refers to 224 by 224 by 3 images. But if you look at the numbers, I think that the numbers make sense only of actually 227 by 227.” - Andrew Ng\n",
    "\n",
    "O = ((227 - 11 + 0)/4) + 1 = (216/4) + 1  = 55"
   ]
  },
  {
   "cell_type": "code",
   "execution_count": 156,
   "metadata": {},
   "outputs": [
    {
     "name": "stdout",
     "output_type": "stream",
     "text": [
      "_________________________________________________________________\n",
      "Layer (type)                 Output Shape              Param #   \n",
      "=================================================================\n",
      "Conv1 (Conv2D)               (None, 96, 55, 55)        34944     \n",
      "=================================================================\n",
      "Total params: 34,944\n",
      "Trainable params: 34,944\n",
      "Non-trainable params: 0\n",
      "_________________________________________________________________\n"
     ]
    }
   ],
   "source": [
    "model.add(Conv2D(filters=96, input_shape=(3,227,227), kernel_size=(11,11), strides=(4,4), padding='valid', name='Conv1'))\n",
    "\n",
    "model.summary()"
   ]
  },
  {
   "cell_type": "markdown",
   "metadata": {},
   "source": [
    "No. of params here can be calculated using ```(filter_height * filter_width * input_image_channels + 1) * number_of_filters```\n",
    "\n",
    "Therefore, params = (11x11x3 + 1) x 96 = 34944\n",
    "\n",
    "The \"+ 1\" is for the biases."
   ]
  },
  {
   "cell_type": "markdown",
   "metadata": {},
   "source": [
    "### Post convolution operations\n",
    "\n",
    "> \"The ReLU non-linearity is applied to the output of every convolutional and fully-connected layer.\" - Sec 3.5 Para 2 \n",
    "\n",
    "> \"Response-normalization layers follow the first and second convolutional layers.\" - Sec 3.5 Para 2\n",
    "\n",
    "> \"Max-pooling layers, of the kind described in Section 3.4, follow both response-normalization layers as well as the fifth convolutional layer\" - Sec 3.5 Para 2\n",
    "\n",
    "More on this in the slides.\n",
    "\n",
    "\n",
    "O = ((W - F + 2P)/ S) + 1\n",
    "\n",
    "For pooling, W = 55, F = 3, P = 0, S = 2\n",
    "\n",
    "Therefore O = ((55 - 3 + 0)/2) + 1 = 27"
   ]
  },
  {
   "cell_type": "code",
   "execution_count": 157,
   "metadata": {},
   "outputs": [
    {
     "name": "stdout",
     "output_type": "stream",
     "text": [
      "_________________________________________________________________\n",
      "Layer (type)                 Output Shape              Param #   \n",
      "=================================================================\n",
      "Conv1 (Conv2D)               (None, 96, 55, 55)        34944     \n",
      "_________________________________________________________________\n",
      "activation_77 (Activation)   (None, 96, 55, 55)        0         \n",
      "_________________________________________________________________\n",
      "LRN1 (Lambda)                (None, 96, 55, 55)        0         \n",
      "_________________________________________________________________\n",
      "MaxPool (MaxPooling2D)       (None, 96, 27, 27)        0         \n",
      "=================================================================\n",
      "Total params: 34,944\n",
      "Trainable params: 34,944\n",
      "Non-trainable params: 0\n",
      "_________________________________________________________________\n"
     ]
    }
   ],
   "source": [
    "model.add(Activation('relu'))\n",
    "model.add(local_response_normalization(name=\"LRN1\"))\n",
    "# model.add(BatchNormalization())\n",
    "model.add(MaxPooling2D(pool_size=(3,3), strides=(2,2), padding='valid', name=\"MaxPool\"))\n",
    "\n",
    "model.summary()"
   ]
  },
  {
   "cell_type": "markdown",
   "metadata": {},
   "source": [
    "### Convolutional Layer 2\n",
    "\n",
    "> \"The second convolutional layer takes as input the (response-normalized and pooled) output of the first convolutional layer and filters it with 256 kernels of size 5×5×48.\" Sec. 3.5 para 3\n",
    "\n",
    "O = (W−F+2P)/S+1\n",
    "\n",
    "After pooling, we want output to be of size 13x13 but only after pooling, so we dont know what the intermediate output size is, but we know that it needs to be an integer. We know F = 5, W = 27, S = ?, P = ?, but lets investigate\n",
    "\n",
    "O = (27 - 5 + 2P)/S + 1 needs to be an integer. \n",
    "\n",
    "Lets assume stride for the conv to be 2 and padding to be 1\n",
    "O = ((27 - 5 + 2)/ 2) + 1 = 11. Now if we apply pooling, we wont get 13. So this is wrong as well.\n",
    "\n",
    "So lets assume the stride to be 1 and padding to be 0.\n",
    "\n",
    "O = (27 - 5 + 0)/1 + 1 = 23\n",
    "\n",
    "Now if we apply pooling, \n",
    "\n",
    "O = (23 - 3 + 0)/2 + 1 = 11. This is not correct!\n",
    "\n",
    "But if we apply 1x1 padding to this, we'll get 13."
   ]
  },
  {
   "cell_type": "code",
   "execution_count": 158,
   "metadata": {},
   "outputs": [
    {
     "name": "stdout",
     "output_type": "stream",
     "text": [
      "_________________________________________________________________\n",
      "Layer (type)                 Output Shape              Param #   \n",
      "=================================================================\n",
      "Conv1 (Conv2D)               (None, 96, 55, 55)        34944     \n",
      "_________________________________________________________________\n",
      "activation_77 (Activation)   (None, 96, 55, 55)        0         \n",
      "_________________________________________________________________\n",
      "LRN1 (Lambda)                (None, 96, 55, 55)        0         \n",
      "_________________________________________________________________\n",
      "MaxPool (MaxPooling2D)       (None, 96, 27, 27)        0         \n",
      "_________________________________________________________________\n",
      "Conv2 (Conv2D)               (None, 256, 23, 23)       614656    \n",
      "_________________________________________________________________\n",
      "activation_78 (Activation)   (None, 256, 23, 23)       0         \n",
      "_________________________________________________________________\n",
      "LRN2 (Lambda)                (None, 256, 23, 23)       0         \n",
      "_________________________________________________________________\n",
      "MaxPool2 (MaxPooling2D)      (None, 256, 11, 11)       0         \n",
      "_________________________________________________________________\n",
      "zero_padding2d_25 (ZeroPaddi (None, 256, 13, 13)       0         \n",
      "=================================================================\n",
      "Total params: 649,600\n",
      "Trainable params: 649,600\n",
      "Non-trainable params: 0\n",
      "_________________________________________________________________\n"
     ]
    }
   ],
   "source": [
    "model.add(Conv2D(filters=256, kernel_size=(5,5), padding='valid', name=\"Conv2\"))\n",
    "model.add(Activation('relu'))\n",
    "model.add(local_response_normalization(name=\"LRN2\"))\n",
    "# model.add(BatchNormalization())\n",
    "model.add(MaxPooling2D(pool_size=(3,3), strides=(2,2), name=\"MaxPool2\"))\n",
    "model.add(ZeroPadding2D(padding=(1, 1)))\n",
    "\n",
    "model.summary()"
   ]
  },
  {
   "cell_type": "markdown",
   "metadata": {},
   "source": [
    "### Convolutional Layer 3"
   ]
  },
  {
   "cell_type": "markdown",
   "metadata": {},
   "source": [
    "> \"The  third  convolutional  layer  has  384  kernels  of  size 3×3×256 connected to the (normalized, pooled) outputs of the second convolutional layer.\" - Sec 3.5 Para 3  \n",
    "\n",
    "> \"The third, fourth, and fifth convolutional layers are connected to one another without any intervening pooling  or  normalization  layers.\" - Sec 3.5 Para 3\n"
   ]
  },
  {
   "cell_type": "code",
   "execution_count": 159,
   "metadata": {},
   "outputs": [
    {
     "name": "stdout",
     "output_type": "stream",
     "text": [
      "_________________________________________________________________\n",
      "Layer (type)                 Output Shape              Param #   \n",
      "=================================================================\n",
      "Conv1 (Conv2D)               (None, 96, 55, 55)        34944     \n",
      "_________________________________________________________________\n",
      "activation_77 (Activation)   (None, 96, 55, 55)        0         \n",
      "_________________________________________________________________\n",
      "LRN1 (Lambda)                (None, 96, 55, 55)        0         \n",
      "_________________________________________________________________\n",
      "MaxPool (MaxPooling2D)       (None, 96, 27, 27)        0         \n",
      "_________________________________________________________________\n",
      "Conv2 (Conv2D)               (None, 256, 23, 23)       614656    \n",
      "_________________________________________________________________\n",
      "activation_78 (Activation)   (None, 256, 23, 23)       0         \n",
      "_________________________________________________________________\n",
      "LRN2 (Lambda)                (None, 256, 23, 23)       0         \n",
      "_________________________________________________________________\n",
      "MaxPool2 (MaxPooling2D)      (None, 256, 11, 11)       0         \n",
      "_________________________________________________________________\n",
      "zero_padding2d_25 (ZeroPaddi (None, 256, 13, 13)       0         \n",
      "_________________________________________________________________\n",
      "Conv3 (Conv2D)               (None, 384, 11, 11)       885120    \n",
      "_________________________________________________________________\n",
      "activation_79 (Activation)   (None, 384, 11, 11)       0         \n",
      "=================================================================\n",
      "Total params: 1,534,720\n",
      "Trainable params: 1,534,720\n",
      "Non-trainable params: 0\n",
      "_________________________________________________________________\n"
     ]
    }
   ],
   "source": [
    "model.add(Conv2D(filters=384, kernel_size=(3,3), padding='valid', name=\"Conv3\"))\n",
    "model.add(Activation('relu'))\n",
    "\n",
    "model.summary()"
   ]
  },
  {
   "cell_type": "code",
   "execution_count": 160,
   "metadata": {},
   "outputs": [
    {
     "name": "stdout",
     "output_type": "stream",
     "text": [
      "_________________________________________________________________\n",
      "Layer (type)                 Output Shape              Param #   \n",
      "=================================================================\n",
      "Conv1 (Conv2D)               (None, 96, 55, 55)        34944     \n",
      "_________________________________________________________________\n",
      "activation_77 (Activation)   (None, 96, 55, 55)        0         \n",
      "_________________________________________________________________\n",
      "LRN1 (Lambda)                (None, 96, 55, 55)        0         \n",
      "_________________________________________________________________\n",
      "MaxPool (MaxPooling2D)       (None, 96, 27, 27)        0         \n",
      "_________________________________________________________________\n",
      "Conv2 (Conv2D)               (None, 256, 23, 23)       614656    \n",
      "_________________________________________________________________\n",
      "activation_78 (Activation)   (None, 256, 23, 23)       0         \n",
      "_________________________________________________________________\n",
      "LRN2 (Lambda)                (None, 256, 23, 23)       0         \n",
      "_________________________________________________________________\n",
      "MaxPool2 (MaxPooling2D)      (None, 256, 11, 11)       0         \n",
      "_________________________________________________________________\n",
      "zero_padding2d_25 (ZeroPaddi (None, 256, 13, 13)       0         \n",
      "_________________________________________________________________\n",
      "Conv3 (Conv2D)               (None, 384, 11, 11)       885120    \n",
      "_________________________________________________________________\n",
      "activation_79 (Activation)   (None, 384, 11, 11)       0         \n",
      "_________________________________________________________________\n",
      "zero_padding2d_26 (ZeroPaddi (None, 384, 13, 13)       0         \n",
      "=================================================================\n",
      "Total params: 1,534,720\n",
      "Trainable params: 1,534,720\n",
      "Non-trainable params: 0\n",
      "_________________________________________________________________\n"
     ]
    }
   ],
   "source": [
    "model.add(ZeroPadding2D(padding=(1, 1)))\n",
    "\n",
    "model.summary()"
   ]
  },
  {
   "cell_type": "markdown",
   "metadata": {},
   "source": [
    "### Convolutional Layer 4 and 5\n",
    "\n",
    "> \"The fourth convolutional layer has 384 kernels of size 3×3×192, and the fifth convolutional layer has 256 kernels of size 3×3×192.\" - Sec 3.5 Para 3"
   ]
  },
  {
   "cell_type": "code",
   "execution_count": 161,
   "metadata": {},
   "outputs": [
    {
     "name": "stdout",
     "output_type": "stream",
     "text": [
      "_________________________________________________________________\n",
      "Layer (type)                 Output Shape              Param #   \n",
      "=================================================================\n",
      "Conv1 (Conv2D)               (None, 96, 55, 55)        34944     \n",
      "_________________________________________________________________\n",
      "activation_77 (Activation)   (None, 96, 55, 55)        0         \n",
      "_________________________________________________________________\n",
      "LRN1 (Lambda)                (None, 96, 55, 55)        0         \n",
      "_________________________________________________________________\n",
      "MaxPool (MaxPooling2D)       (None, 96, 27, 27)        0         \n",
      "_________________________________________________________________\n",
      "Conv2 (Conv2D)               (None, 256, 23, 23)       614656    \n",
      "_________________________________________________________________\n",
      "activation_78 (Activation)   (None, 256, 23, 23)       0         \n",
      "_________________________________________________________________\n",
      "LRN2 (Lambda)                (None, 256, 23, 23)       0         \n",
      "_________________________________________________________________\n",
      "MaxPool2 (MaxPooling2D)      (None, 256, 11, 11)       0         \n",
      "_________________________________________________________________\n",
      "zero_padding2d_25 (ZeroPaddi (None, 256, 13, 13)       0         \n",
      "_________________________________________________________________\n",
      "Conv3 (Conv2D)               (None, 384, 11, 11)       885120    \n",
      "_________________________________________________________________\n",
      "activation_79 (Activation)   (None, 384, 11, 11)       0         \n",
      "_________________________________________________________________\n",
      "zero_padding2d_26 (ZeroPaddi (None, 384, 13, 13)       0         \n",
      "_________________________________________________________________\n",
      "Conv4 (Conv2D)               (None, 384, 11, 11)       1327488   \n",
      "_________________________________________________________________\n",
      "activation_80 (Activation)   (None, 384, 11, 11)       0         \n",
      "_________________________________________________________________\n",
      "zero_padding2d_27 (ZeroPaddi (None, 384, 13, 13)       0         \n",
      "_________________________________________________________________\n",
      "Conv5 (Conv2D)               (None, 256, 11, 11)       884992    \n",
      "_________________________________________________________________\n",
      "activation_81 (Activation)   (None, 256, 11, 11)       0         \n",
      "_________________________________________________________________\n",
      "MaxPool3 (MaxPooling2D)      (None, 256, 5, 5)         0         \n",
      "=================================================================\n",
      "Total params: 3,747,200\n",
      "Trainable params: 3,747,200\n",
      "Non-trainable params: 0\n",
      "_________________________________________________________________\n"
     ]
    }
   ],
   "source": [
    "model.add(Conv2D(filters=384, kernel_size=(3,3), padding='valid', name=\"Conv4\"))\n",
    "model.add(Activation('relu'))\n",
    "model.add(ZeroPadding2D(padding=(1, 1)))\n",
    "\n",
    "model.add(Conv2D(filters=256, kernel_size=(3,3), padding='valid', name=\"Conv5\"))\n",
    "model.add(Activation('relu'))\n",
    "model.add(MaxPooling2D(pool_size=(3,3), strides=(2,2), name=\"MaxPool3\"))\n",
    "\n",
    "\n",
    "model.summary()"
   ]
  },
  {
   "cell_type": "markdown",
   "metadata": {},
   "source": [
    "### Fully connected layer (FC6)\n",
    "\n",
    "> \"The fully-connected layers have 4096 neurons each.\" - Sec 3.5 Para 3"
   ]
  },
  {
   "cell_type": "code",
   "execution_count": 162,
   "metadata": {},
   "outputs": [],
   "source": [
    "model.add(Flatten())\n",
    "\n",
    "model.add(Dense(4096, name=\"FC6\"))\n",
    "model.add(Activation('relu'))\n",
    "model.add(Dropout(0.5))"
   ]
  },
  {
   "cell_type": "markdown",
   "metadata": {},
   "source": [
    "### Fully connected layer 2(FC7)"
   ]
  },
  {
   "cell_type": "code",
   "execution_count": 163,
   "metadata": {},
   "outputs": [],
   "source": [
    "model.add(Dense(4096, name=\"FC7\"))\n",
    "model.add(Activation('relu'))\n",
    "model.add(Dropout(0.4))"
   ]
  },
  {
   "cell_type": "markdown",
   "metadata": {},
   "source": [
    "### Softmax layer"
   ]
  },
  {
   "cell_type": "code",
   "execution_count": 164,
   "metadata": {},
   "outputs": [],
   "source": [
    "n_classes=1000\n",
    "model.add(Dense(1000))\n",
    "model.add(Activation('relu'))\n",
    "model.add(Dropout(0.5))\n",
    "if n_classes != 1000:\n",
    "    model.add(Dense(n_classes))\n",
    "model.add(Activation('softmax'))"
   ]
  },
  {
   "cell_type": "code",
   "execution_count": 165,
   "metadata": {},
   "outputs": [],
   "source": [
    "if K.backend() == 'tensorflow':\n",
    "    convert_all_kernels_in_model(model)"
   ]
  },
  {
   "cell_type": "code",
   "execution_count": 166,
   "metadata": {},
   "outputs": [
    {
     "name": "stdout",
     "output_type": "stream",
     "text": [
      "_________________________________________________________________\n",
      "Layer (type)                 Output Shape              Param #   \n",
      "=================================================================\n",
      "Conv1 (Conv2D)               (None, 96, 55, 55)        34944     \n",
      "_________________________________________________________________\n",
      "activation_77 (Activation)   (None, 96, 55, 55)        0         \n",
      "_________________________________________________________________\n",
      "LRN1 (Lambda)                (None, 96, 55, 55)        0         \n",
      "_________________________________________________________________\n",
      "MaxPool (MaxPooling2D)       (None, 96, 27, 27)        0         \n",
      "_________________________________________________________________\n",
      "Conv2 (Conv2D)               (None, 256, 23, 23)       614656    \n",
      "_________________________________________________________________\n",
      "activation_78 (Activation)   (None, 256, 23, 23)       0         \n",
      "_________________________________________________________________\n",
      "LRN2 (Lambda)                (None, 256, 23, 23)       0         \n",
      "_________________________________________________________________\n",
      "MaxPool2 (MaxPooling2D)      (None, 256, 11, 11)       0         \n",
      "_________________________________________________________________\n",
      "zero_padding2d_25 (ZeroPaddi (None, 256, 13, 13)       0         \n",
      "_________________________________________________________________\n",
      "Conv3 (Conv2D)               (None, 384, 11, 11)       885120    \n",
      "_________________________________________________________________\n",
      "activation_79 (Activation)   (None, 384, 11, 11)       0         \n",
      "_________________________________________________________________\n",
      "zero_padding2d_26 (ZeroPaddi (None, 384, 13, 13)       0         \n",
      "_________________________________________________________________\n",
      "Conv4 (Conv2D)               (None, 384, 11, 11)       1327488   \n",
      "_________________________________________________________________\n",
      "activation_80 (Activation)   (None, 384, 11, 11)       0         \n",
      "_________________________________________________________________\n",
      "zero_padding2d_27 (ZeroPaddi (None, 384, 13, 13)       0         \n",
      "_________________________________________________________________\n",
      "Conv5 (Conv2D)               (None, 256, 11, 11)       884992    \n",
      "_________________________________________________________________\n",
      "activation_81 (Activation)   (None, 256, 11, 11)       0         \n",
      "_________________________________________________________________\n",
      "MaxPool3 (MaxPooling2D)      (None, 256, 5, 5)         0         \n",
      "_________________________________________________________________\n",
      "flatten_7 (Flatten)          (None, 6400)              0         \n",
      "_________________________________________________________________\n",
      "FC6 (Dense)                  (None, 4096)              26218496  \n",
      "_________________________________________________________________\n",
      "activation_82 (Activation)   (None, 4096)              0         \n",
      "_________________________________________________________________\n",
      "dropout_17 (Dropout)         (None, 4096)              0         \n",
      "_________________________________________________________________\n",
      "FC7 (Dense)                  (None, 4096)              16781312  \n",
      "_________________________________________________________________\n",
      "activation_83 (Activation)   (None, 4096)              0         \n",
      "_________________________________________________________________\n",
      "dropout_18 (Dropout)         (None, 4096)              0         \n",
      "_________________________________________________________________\n",
      "dense_17 (Dense)             (None, 1000)              4097000   \n",
      "_________________________________________________________________\n",
      "activation_84 (Activation)   (None, 1000)              0         \n",
      "_________________________________________________________________\n",
      "dropout_19 (Dropout)         (None, 1000)              0         \n",
      "_________________________________________________________________\n",
      "activation_85 (Activation)   (None, 1000)              0         \n",
      "=================================================================\n",
      "Total params: 50,844,008\n",
      "Trainable params: 50,844,008\n",
      "Non-trainable params: 0\n",
      "_________________________________________________________________\n"
     ]
    }
   ],
   "source": [
    "model.summary()"
   ]
  },
  {
   "cell_type": "code",
   "execution_count": 167,
   "metadata": {},
   "outputs": [],
   "source": [
    "sgd = optimizers.SGD(lr=0.01, decay=0.0005, momentum=0.9)\n",
    "model.compile(loss='categorical_crossentropy', optimizer=sgd,  metrics=['accuracy'])"
   ]
  },
  {
   "cell_type": "markdown",
   "metadata": {},
   "source": [
    "### Load whatever data you want to train this on, one-hot encode the labels and put them in an np array and run the following command:"
   ]
  },
  {
   "cell_type": "code",
   "execution_count": 168,
   "metadata": {},
   "outputs": [],
   "source": [
    "# model.fit(data, labels, epochs=90, batch_size=128)"
   ]
  },
  {
   "cell_type": "markdown",
   "metadata": {},
   "source": [
    "### Now you have successfully recreated AlexNet! Pat yourself!"
   ]
  },
  {
   "cell_type": "code",
   "execution_count": null,
   "metadata": {},
   "outputs": [],
   "source": []
  }
 ],
 "metadata": {
  "kernelspec": {
   "display_name": "Python 3",
   "language": "python",
   "name": "python3"
  },
  "language_info": {
   "codemirror_mode": {
    "name": "ipython",
    "version": 3
   },
   "file_extension": ".py",
   "mimetype": "text/x-python",
   "name": "python",
   "nbconvert_exporter": "python",
   "pygments_lexer": "ipython3",
   "version": "3.6.6"
  }
 },
 "nbformat": 4,
 "nbformat_minor": 2
}
